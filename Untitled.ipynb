{
 "cells": [
  {
   "cell_type": "markdown",
   "id": "3d34ed73",
   "metadata": {},
   "source": [
    "# We test ISD on a free linear code over some ring $\\mathbb Z_{p^s}$\n",
    "\n",
    "We sample a random vector $\\6e\\in\\mathbb Z_{p^s}^n$ with weight $w$, then project to a subring (which will be a field), solve the decoding problem in the subring and see if the found solution is the projection of the solution in the starting ring\n",
    "\n",
    "We set $w = d/2$, where $d$ is the minimum distance of the projected code"
   ]
  },
  {
   "cell_type": "code",
   "execution_count": 5,
   "id": "357ccd05",
   "metadata": {},
   "outputs": [],
   "source": [
    "reset()\n",
    "\n",
    "def gv_bound(n,k,p):\n",
    "    w = 1\n",
    "    while ((binomial(n,w)*(p-1)^w)<p^(n-k)):\n",
    "        w +=1\n",
    "    \n",
    "    return w-1"
   ]
  },
  {
   "cell_type": "code",
   "execution_count": 7,
   "id": "605eb731",
   "metadata": {},
   "outputs": [
    {
     "name": "stdout",
     "output_type": "stream",
     "text": [
      "[q, n, k, d] =  [4, 100, 50, 12]\n",
      "Doing SDP with w =  6\n"
     ]
    }
   ],
   "source": [
    "#Set code parameters\n",
    "q = 4; p = 2; k = 50; n = 100\n",
    "\n",
    "d = gv_bound(n,k,p) #compute minimum distance\n",
    "w = floor(d/2) #error vector weight\n",
    "\n",
    "print(\"[q, n, k, d] = \",[q, n, k, d])\n",
    "print(\"Doing SDP with w = \",w)"
   ]
  },
  {
   "cell_type": "code",
   "execution_count": 9,
   "id": "a2e47dfb",
   "metadata": {},
   "outputs": [
    {
     "ename": "TypeError",
     "evalue": "unsupported operand parent(s) for *: 'Full MatrixSpace of 1 by 100 dense matrices over Ring of integers modulo 4' and 'Full MatrixSpace of 150 by 50 dense matrices over Ring of integers modulo 4'",
     "output_type": "error",
     "traceback": [
      "\u001b[0;31m---------------------------------------------------------------------------\u001b[0m",
      "\u001b[0;31mTypeError\u001b[0m                                 Traceback (most recent call last)",
      "Cell \u001b[0;32mIn [9], line 16\u001b[0m\n\u001b[1;32m     13\u001b[0m     e[Integer(\u001b[38;5;241m0\u001b[39m),i] \u001b[38;5;241m=\u001b[39m val\n\u001b[1;32m     15\u001b[0m \u001b[38;5;66;03m#compute syndrome\u001b[39;00m\n\u001b[0;32m---> 16\u001b[0m s \u001b[38;5;241m=\u001b[39m \u001b[43me\u001b[49m\u001b[38;5;241;43m*\u001b[39;49m\u001b[43mH\u001b[49m\u001b[38;5;241;43m.\u001b[39;49m\u001b[43mtranspose\u001b[49m\u001b[43m(\u001b[49m\u001b[43m)\u001b[49m\n",
      "File \u001b[0;32m~/sage/src/sage/structure/element.pyx:3939\u001b[0m, in \u001b[0;36msage.structure.element.Matrix.__mul__\u001b[0;34m()\u001b[0m\n\u001b[1;32m   3937\u001b[0m \n\u001b[1;32m   3938\u001b[0m         if BOTH_ARE_ELEMENT(cl):\n\u001b[0;32m-> 3939\u001b[0m             return coercion_model.bin_op(left, right, mul)\n\u001b[1;32m   3940\u001b[0m \n\u001b[1;32m   3941\u001b[0m         cdef long value\n",
      "File \u001b[0;32m~/sage/src/sage/structure/coerce.pyx:1269\u001b[0m, in \u001b[0;36msage.structure.coerce.CoercionModel.bin_op\u001b[0;34m()\u001b[0m\n\u001b[1;32m   1267\u001b[0m     # We should really include the underlying error.\n\u001b[1;32m   1268\u001b[0m     # This causes so much headache.\n\u001b[0;32m-> 1269\u001b[0m     raise bin_op_exception(op, x, y)\n\u001b[1;32m   1270\u001b[0m \n\u001b[1;32m   1271\u001b[0m cpdef canonical_coercion(self, x, y):\n",
      "\u001b[0;31mTypeError\u001b[0m: unsupported operand parent(s) for *: 'Full MatrixSpace of 1 by 100 dense matrices over Ring of integers modulo 4' and 'Full MatrixSpace of 150 by 50 dense matrices over Ring of integers modulo 4'"
     ]
    }
   ],
   "source": [
    "#Generate code\n",
    "Zq = Integers(q)\n",
    "A = random_matrix(Zq,n-k,n)\n",
    "H = block_matrix(Zq,1,2,[identity_matrix(Zq,n-k),A])\n",
    "\n",
    "#Sample random error vector\n",
    "e = matrix(Zq,1,n)\n",
    "supp_e = Combinations(n,w).random_element()\n",
    "for i in supp_e:\n",
    "    val = Zq.random_element()\n",
    "    while val == 0:\n",
    "        val = Zq.random_element()\n",
    "    e[0,i] = val\n",
    "\n",
    "#compute syndrome\n",
    "s = e*H.transpose()\n"
   ]
  },
  {
   "cell_type": "code",
   "execution_count": null,
   "id": "5761ca82",
   "metadata": {},
   "outputs": [],
   "source": []
  }
 ],
 "metadata": {
  "kernelspec": {
   "display_name": "SageMath 10.1",
   "language": "sage",
   "name": "sagemath"
  },
  "language_info": {
   "codemirror_mode": {
    "name": "ipython",
    "version": 3
   },
   "file_extension": ".py",
   "mimetype": "text/x-python",
   "name": "python",
   "nbconvert_exporter": "python",
   "pygments_lexer": "ipython3",
   "version": "3.10.12"
  }
 },
 "nbformat": 4,
 "nbformat_minor": 5
}
