{
 "cells": [
  {
   "cell_type": "markdown",
   "metadata": {},
   "source": [
    "# We test ISD on a free linear code over some ring $\\mathbb Z_{p^s}$\n",
    "\n",
    "We sample a random vector $\\mathbf e\\in\\mathbb Z_{p^s}^n$ with weight $w$, then project to a subring (which will be a field), solve the decoding problem in the subring and see if the found solution is the projection of the solution in the starting ring\n",
    "\n",
    "We set $w = d/2$, where $d$ is the minimum distance of the projected code"
   ]
  },
  {
   "cell_type": "code",
   "execution_count": 80,
   "metadata": {},
   "outputs": [],
   "source": [
    "reset()\n",
    "\n",
    "def gv_bound(n,k,p):\n",
    "    w = 1\n",
    "    while ((binomial(n,w)*(p-1)^w)<p^(n-k)):\n",
    "        w +=1\n",
    "    \n",
    "    return w-1"
   ]
  },
  {
   "cell_type": "code",
   "execution_count": 81,
   "metadata": {},
   "outputs": [
    {
     "name": "stdout",
     "output_type": "stream",
     "text": [
      "[q, n, k, d] =  [4, 20, 5, 5]\n",
      "Doing SDP with w =  2\n"
     ]
    }
   ],
   "source": [
    "#Set code parameters\n",
    "q = 4; p = 2; k = 5; n = 20\n",
    "\n",
    "d = gv_bound(n,k,p) #compute minimum distance\n",
    "w = floor(d/2) #error vector weight\n",
    "\n",
    "print(\"[q, n, k, d] = \",[q, n, k, d])\n",
    "print(\"Doing SDP with w = \",w)"
   ]
  },
  {
   "cell_type": "code",
   "execution_count": 82,
   "metadata": {},
   "outputs": [
    {
     "name": "stdout",
     "output_type": "stream",
     "text": [
      "[1 0 0 0 0 0 0 0 0 0 0 0 0 0 0|3 0 1 0 2]\n",
      "[0 1 0 0 0 0 0 0 0 0 0 0 0 0 0|2 2 2 1 1]\n",
      "[0 0 1 0 0 0 0 0 0 0 0 0 0 0 0|0 2 1 0 3]\n",
      "[0 0 0 1 0 0 0 0 0 0 0 0 0 0 0|1 2 1 1 1]\n",
      "[0 0 0 0 1 0 0 0 0 0 0 0 0 0 0|3 1 0 0 0]\n",
      "[0 0 0 0 0 1 0 0 0 0 0 0 0 0 0|1 1 3 1 1]\n",
      "[0 0 0 0 0 0 1 0 0 0 0 0 0 0 0|2 3 0 2 0]\n",
      "[0 0 0 0 0 0 0 1 0 0 0 0 0 0 0|1 3 1 1 3]\n",
      "[0 0 0 0 0 0 0 0 1 0 0 0 0 0 0|1 3 1 3 1]\n",
      "[0 0 0 0 0 0 0 0 0 1 0 0 0 0 0|0 3 1 0 1]\n",
      "[0 0 0 0 0 0 0 0 0 0 1 0 0 0 0|0 1 3 3 3]\n",
      "[0 0 0 0 0 0 0 0 0 0 0 1 0 0 0|0 3 2 3 2]\n",
      "[0 0 0 0 0 0 0 0 0 0 0 0 1 0 0|2 3 1 2 2]\n",
      "[0 0 0 0 0 0 0 0 0 0 0 0 0 1 0|2 0 3 2 2]\n",
      "[0 0 0 0 0 0 0 0 0 0 0 0 0 0 1|1 1 2 0 0]\n"
     ]
    }
   ],
   "source": [
    "#Generate code\n",
    "Zq = Integers(q)\n",
    "A = random_matrix(Zq,n-k,k)\n",
    "H = block_matrix(Zq,1,2,[identity_matrix(Zq,n-k),A])\n",
    "print(H)\n",
    "\n",
    "#Sample random error vector\n",
    "e = matrix(Zq,1,n)\n",
    "supp_e = Combinations(n,w).random_element() #random support\n",
    "for i in supp_e:\n",
    "    val = Zq.random_element()\n",
    "    while val == 0:\n",
    "        val = Zq.random_element()\n",
    "    e[0,i] = val\n",
    "\n",
    "#compute syndrome\n",
    "s = e*H.transpose()\n"
   ]
  },
  {
   "cell_type": "code",
   "execution_count": 83,
   "metadata": {},
   "outputs": [],
   "source": [
    "Fp = GF(2)\n",
    "\n",
    "#Now, project the code\n",
    "sub_H = H.change_ring(Fp)\n",
    "sub_s = s.change_ring(Fp)\n",
    "\n",
    "#We test Prange\n",
    "solution_found = 0\n",
    "while solution_found == 0:\n",
    "    \n",
    "    P = Permutations(n).random_element().to_matrix().change_ring(Fp) #sample permutation\n",
    "    new_sub_H = sub_H*P #apply permutation\n",
    "    \n",
    "      \n",
    "    if rank(new_sub_H[:,0:n-k])<(n-k):\n",
    "        continue;\n",
    "    \n",
    "    \n",
    "    #Do Gaussian elimination\n",
    "    U = new_sub_H[:,0:n-k]^-1\n",
    "    new_sub_s = sub_s*U.transpose()\n",
    "    \n",
    "    #Count Hamming weight\n",
    "    weight_candidate = n-k-new_sub_s.list().count(0)\n",
    "    if weight_candidate <= w:\n",
    "        \n",
    "        #invert permutation\n",
    "        perm_solution = matrix(Fp,1,n)\n",
    "        perm_solution[0,0:n-k] = new_sub_s\n",
    "        e_prime = perm_solution*P^-1\n",
    "        solution_found = 1\n"
   ]
  },
  {
   "cell_type": "markdown",
   "metadata": {},
   "source": [
    "# Check if $\\mathbf e \\mod p = \\mathbf e'$"
   ]
  },
  {
   "cell_type": "code",
   "execution_count": 84,
   "metadata": {},
   "outputs": [
    {
     "name": "stdout",
     "output_type": "stream",
     "text": [
      "Is it working?  True\n",
      "Pos  2 :  1 --> =  1\n",
      "Pos  7 :  2 --> =  0\n",
      "\n",
      "[0 0 1 0 0 0 0 2 0 0 0 0 0 0 0 0 0 0 0 0]\n",
      "[0 0 1 0 0 0 0 0 0 0 0 0 0 0 0 0 0 0 0 0]\n"
     ]
    }
   ],
   "source": [
    "print(\"Is it working? \",e.change_ring(Fp) == e_prime)\n",
    "supp_e = vector(e).support()\n",
    "\n",
    "for i in supp_e:\n",
    "    print(\"Pos \",i,\": \",e[0,i], \"--> = \",e_prime[0,i])\n",
    "\n",
    "print()\n",
    "print(e)\n",
    "print(e_prime)"
   ]
  },
  {
   "cell_type": "code",
   "execution_count": 85,
   "metadata": {},
   "outputs": [],
   "source": [
    "#Z4 = Integers(4)\n",
    "#A = random_matrix(Z4,5,5)\n",
    "#A = matrix(Z4,[[1, 0, 1, 3, 0],[1, 2, 3, 2, 1],[2, 1, 3, 0, 3],[1, 2, 1, 3, 2],[1, 0, 3, 2, 3]])\n",
    "#print(\"Before\")\n",
    "#print(A)\n",
    "\n",
    "def PGE_ring(H):\n",
    "    \n",
    "    n = H.ncols()\n",
    "    r = H.nrows()\n",
    "        \n",
    "    ok = 1;\n",
    "    i = 0;\n",
    "    while (i<r)&(ok):\n",
    "        #swap rows so that you have a pivot\n",
    "        j = r-1-i;\n",
    "        while((not (H[j,n-1-i]).is_unit())&(j>0)):\n",
    "            j = j-1;\n",
    "        #print(\"Riga per il pivot:\", j)\n",
    "        #if no valid element has been found, report failure\n",
    "        if ((not (H[j,n-1-i]).is_unit())):\n",
    "            ok = 0;\n",
    "        else: #swap rows\n",
    "            tmp = H[r-1-i,:];\n",
    "            H[r-1-i,:] = H[j,:];\n",
    "            H[j,:] = tmp;\n",
    "            #scale row so that you have the pivot\n",
    "            scale_coeff = H[r-1-i,n-1-i]^-1;\n",
    "            H[r-1-i,:] = scale_coeff*H[r-1-i,:];\n",
    "            #print(\"Riga scalata:\")\n",
    "            #print(H)\n",
    "            #print(\"---------\")\n",
    "            #create zeros\n",
    "            for v in range(r):\n",
    "                if v!= i:\n",
    "                    scale_coeff = H[r-1-v,n-1-i]\n",
    "                    H[r-1-v,:] = H[r-1-v,:] - scale_coeff*H[r-1-i,:]\n",
    "        i+=1;\n",
    "        #print(\"Dopo creazione zero\")\n",
    "        #print(H)\n",
    "        #print(\"fine ciclo\")\n",
    "    return ok, H;\n",
    "\n",
    "#print()\n",
    "#print(PGE(5,5,A)[1])"
   ]
  },
  {
   "cell_type": "code",
   "execution_count": 86,
   "metadata": {},
   "outputs": [],
   "source": [
    "def swapCols(i,j,H):\n",
    "    temp = H[:, i]\n",
    "    H[:, i] = H[:, j]\n",
    "    H[:, j] = temp\n",
    "    return H"
   ]
  },
  {
   "cell_type": "markdown",
   "metadata": {},
   "source": [
    "# Find the original solution"
   ]
  },
  {
   "cell_type": "code",
   "execution_count": 94,
   "metadata": {},
   "outputs": [
    {
     "name": "stdout",
     "output_type": "stream",
     "text": [
      "\n",
      "[0 0 1 0 0 0 0 2 0 0 0 0 0 0 0 0 0 0 0 0]\n"
     ]
    }
   ],
   "source": [
    "# We use the recovered information about e_prime\n",
    "e_prime_supp = [item[1] for item in e_prime.support()]\n",
    "\n",
    "#We test Prange\n",
    "solution_found = 0\n",
    "while solution_found == 0:\n",
    "    \n",
    "    \n",
    "        \n",
    "    P = Permutations(n).random_element().to_matrix().change_ring(Zq) #sample permutation\n",
    "    \n",
    "    # TODO: apply constraints to permutations\n",
    "    \n",
    "    new_H = H*P #apply permutation\n",
    "    \n",
    "    for i in range(len(e_prime_supp)):\n",
    "        new_H = swapCols(i,e_prime_supp[i],new_H) # metto a sx le colonne per cui il supp della sol è non nullo\n",
    "      \n",
    "    if PGE_ring(new_H[:,0:n-k])[0]==0:\n",
    "        continue;\n",
    "    \n",
    "    #Do Gaussian elimination\n",
    "    U = new_H[:,0:n-k]^-1\n",
    "    new_s = s*U.transpose()\n",
    "    \n",
    "    #print()\n",
    "    #print(new_H)\n",
    "    \n",
    "    #Count Hamming weight\n",
    "    weight_candidate = n-k-new_s.list().count(0)\n",
    "    if weight_candidate <= w:\n",
    "        \n",
    "        #invert permutation\n",
    "        perm_solution = matrix(Zq,1,n)\n",
    "        perm_solution[0,0:n-k] = new_s\n",
    "        #print(\"before:\",perm_solution)\n",
    "        for i in range(len(e_prime_supp)):\n",
    "            swapCols(i,e_prime_supp[i],perm_solution) # rigiro le entrate\n",
    "        e_prime = perm_solution*P^-1\n",
    "        solution_found = 1\n",
    "\n",
    "print()\n",
    "print(e_prime)\n"
   ]
  },
  {
   "cell_type": "code",
   "execution_count": null,
   "metadata": {},
   "outputs": [],
   "source": []
  }
 ],
 "metadata": {
  "kernelspec": {
   "display_name": "SageMath 9.3",
   "language": "sage",
   "name": "sagemath"
  },
  "language_info": {
   "codemirror_mode": {
    "name": "ipython",
    "version": 3
   },
   "file_extension": ".py",
   "mimetype": "text/x-python",
   "name": "python",
   "nbconvert_exporter": "python",
   "pygments_lexer": "ipython3",
   "version": "3.9.2"
  }
 },
 "nbformat": 4,
 "nbformat_minor": 5
}
